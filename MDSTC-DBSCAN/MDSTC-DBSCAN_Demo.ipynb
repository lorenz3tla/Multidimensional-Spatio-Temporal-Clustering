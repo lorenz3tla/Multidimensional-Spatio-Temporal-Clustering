{
 "cells": [
  {
   "cell_type": "markdown",
   "metadata": {},
   "source": [
    "# MDSTC-DBSCAN Demo"
   ]
  },
  {
   "cell_type": "markdown",
   "metadata": {},
   "source": [
    "Data: https://data.ct.gov/Housing-and-Development/Real-Estate-Sales-2001-2020-GL/5mzw-sjtu"
   ]
  },
  {
   "cell_type": "code",
   "execution_count": null,
   "metadata": {},
   "outputs": [],
   "source": [
    "import pandas as pd\n",
    "import matplotlib.pyplot as plt\n",
    "import geopandas as gpd\n",
    "from MDST_DBSCAN.MDSTC_DBSCAN.mdstc_dbscan import mdstcdbscan\n",
    "from shapely.geometry import Polygon,MultiPoint, Point\n",
    "from datetime import datetime\n",
    "import numpy as np"
   ]
  },
  {
   "cell_type": "code",
   "execution_count": null,
   "metadata": {},
   "outputs": [],
   "source": [
    "df = pd.read_csv(r'.\\Data\\realestatesales.csv')\n",
    "df\n"
   ]
  },
  {
   "cell_type": "code",
   "execution_count": null,
   "metadata": {},
   "outputs": [],
   "source": [
    "df = df[df['Location'].notna()]\n",
    "df"
   ]
  },
  {
   "cell_type": "code",
   "execution_count": null,
   "metadata": {},
   "outputs": [],
   "source": [
    "df['Date Recorded'] = pd.to_datetime(df['Date Recorded'])\n",
    "filtered_df = df[(df['Date Recorded'].dt.year >= 2015) & (df['Date Recorded'].dt.year <= 2020)]"
   ]
  },
  {
   "cell_type": "code",
   "execution_count": null,
   "metadata": {},
   "outputs": [],
   "source": [
    "property_types = filtered_df['Property Type'].value_counts()\n",
    "filtered_df = filtered_df[filtered_df['Property Type'] == 'Single Family']\n"
   ]
  },
  {
   "cell_type": "code",
   "execution_count": null,
   "metadata": {},
   "outputs": [],
   "source": [
    "from shapely.wkt import loads\n",
    "\n",
    "# Convert the WKT coordinates to Shapely Point objects\n",
    "filtered_df['geometry'] = filtered_df['Location'].apply(loads)\n",
    "\n",
    "# Create a GeoDataFrame from the DataFrame\n",
    "gdf = gpd.GeoDataFrame(filtered_df, geometry='geometry')\n",
    "\n",
    "center_point = loads('POINT(-72.71 41.5)')\n",
    "\n",
    "# Plot the GeoDataFrame\n",
    "fig, ax = plt.subplots()\n",
    "gdf.plot(ax=ax, marker='o', color='red', markersize=5)\n",
    "\n",
    "# Set axis labels and title\n",
    "ax.set_xlabel('Longitude')\n",
    "ax.set_ylabel('Latitude')\n",
    "ax.set_title('Entries with Location Points')\n",
    "\n",
    "\n",
    "ax.set_xlim(center_point.x - 1, center_point.x + 1)\n",
    "ax.set_ylim(center_point.y - 1, center_point.y + 1)\n",
    "\n",
    "# Display the plot\n",
    "plt.show()"
   ]
  },
  {
   "cell_type": "code",
   "execution_count": null,
   "metadata": {},
   "outputs": [],
   "source": [
    "# Convert the 'geometry' column to a GeoSeries\n",
    "gdf = gpd.GeoSeries(filtered_df['geometry'])\n",
    "\n",
    "# Extract x and y coordinates\n",
    "x = gdf.geometry.x\n",
    "y = gdf.geometry.y\n",
    "time = filtered_df['Date Recorded']\n",
    "value = filtered_df['Sale Amount']\n",
    "ids = filtered_df.index.values\n",
    "ids = pd.Series(filtered_df.index.values)\n"
   ]
  },
  {
   "cell_type": "code",
   "execution_count": null,
   "metadata": {},
   "outputs": [],
   "source": [
    "eps = 0.2 #0.04\n",
    "eps2 = 70000 #500\n",
    "minpts = 300 #20\n",
    "#eps=0.038, eps2=1000.0, minpts=110\n",
    "\n",
    "model = mdstcdbscan(eps, eps2, minpts,1)\n",
    "cluster_mark, df, reward, data = model.run(x, y, time, value, ids)\n",
    "\n"
   ]
  },
  {
   "cell_type": "code",
   "execution_count": null,
   "metadata": {},
   "outputs": [],
   "source": [
    "colors = ['r', 'b', 'g', 'c', 'm', 'y', 'k', 'pink', 'orange', 'purple', 'brown','w']\n",
    "\n",
    "# Create figure and axes\n",
    "labels, counts = np.unique(df['cluster_mark'], return_counts=True)\n",
    "n_clusters = len(labels)\n",
    "\n",
    "for i, label in enumerate(labels):\n",
    "    print(f\"Cluster {label}: {counts[i]}\")\n",
    "fig, ax = plt.subplots(figsize=(10, 8))\n",
    "\n",
    "# Iterate over each cluster\n",
    "for i in range(n_clusters):\n",
    "    # Get indices of points in the current cluster\n",
    "    idx = np.where(df['cluster_mark'] == labels[i])[0]\n",
    "\n",
    "    # Get x and y values for the points in the current cluster\n",
    "    y_plot = df['y'][idx]\n",
    "    x_plot = df['x'][idx]\n",
    "    # Plot the points with the appropriate color\n",
    "    ax.scatter(x_plot, y_plot, c=colors[i % len(colors)], alpha=0.5, label=f'Cluster {i+1}')\n",
    "\n",
    "\n",
    "# Set labels for the axes\n",
    "ax.set_xlabel('Longitude')\n",
    "ax.set_ylabel('Latitude')\n",
    "\n",
    "center_point = loads('POINT(-72.71 41.5)')\n",
    "\n",
    "\n",
    "ax.set_xlim(center_point.x - 1, center_point.x + 1)\n",
    "ax.set_ylim(center_point.y - 1, center_point.y + 1)\n",
    "\n",
    "handles, labels = ax.get_legend_handles_labels()\n",
    "ax.legend(handles, labels)\n",
    "plt.show()"
   ]
  },
  {
   "cell_type": "markdown",
   "metadata": {},
   "source": [
    "##### Taking the major cluster mark of each location"
   ]
  },
  {
   "cell_type": "code",
   "execution_count": null,
   "metadata": {},
   "outputs": [],
   "source": [
    "count_df = df.groupby(['x', 'y', 'cluster_mark']).size().reset_index(name='count')\n",
    "count_df\n",
    "max_cluster_df = count_df.loc[count_df.groupby(['x', 'y'])['count'].idxmax()][['x', 'y', 'cluster_mark']]\n",
    "\n"
   ]
  },
  {
   "cell_type": "code",
   "execution_count": null,
   "metadata": {},
   "outputs": [],
   "source": [
    "count_df"
   ]
  },
  {
   "cell_type": "code",
   "execution_count": null,
   "metadata": {},
   "outputs": [],
   "source": [
    "merged_df = df.merge(max_cluster_df, on=['x', 'y'], suffixes=('', '_max'))\n",
    "merged_df"
   ]
  },
  {
   "cell_type": "code",
   "execution_count": null,
   "metadata": {},
   "outputs": [],
   "source": [
    "# Create figure and axes\n",
    "labels, counts = np.unique(merged_df['cluster_mark_max'], return_counts=True)\n",
    "n_clusters = len(labels)\n",
    "\n",
    "for i, label in enumerate(labels):\n",
    "    print(f\"Cluster {label}: {counts[i]}\")\n",
    "fig, ax = plt.subplots(figsize=(10, 8))\n",
    "\n",
    "\n",
    "# Iterate over each cluster\n",
    "for i in range(n_clusters):\n",
    "    # Get indices of points in the current cluster\n",
    "    idx = np.where(merged_df['cluster_mark_max'] == labels[i])[0]\n",
    "\n",
    "    # Get x and y values for the points in the current cluster\n",
    "    y_plot = merged_df['y'][idx]\n",
    "    x_plot = merged_df['x'][idx]\n",
    "    # Plot the points with the appropriate color\n",
    "    ax.scatter(x_plot, y_plot, c=colors[i % len(colors)], alpha=0.5, label=f'Cluster {i+1}')\n",
    "\n",
    "# Set labels for the axes\n",
    "ax.set_xlabel('Longitude')\n",
    "ax.set_ylabel('Latitude')\n",
    "\n",
    "center_point = loads('POINT(-72.71 41.5)')\n",
    "\n",
    "\n",
    "ax.set_xlim(center_point.x - 1, center_point.x + 1)\n",
    "ax.set_ylim(center_point.y - 1, center_point.y + 1)\n",
    "\n",
    "handles, labels = ax.get_legend_handles_labels()\n",
    "ax.legend(handles, labels)\n",
    "plt.show()"
   ]
  },
  {
   "cell_type": "markdown",
   "metadata": {},
   "source": [
    "#### Creating Convex Hulls"
   ]
  },
  {
   "cell_type": "code",
   "execution_count": null,
   "metadata": {},
   "outputs": [],
   "source": [
    "# Create a list of Point objects from x and y columns\n",
    "points = [Point(y,x) for y,x in zip(merged_df['y'], merged_df['x'])]\n",
    "\n",
    "# Create a GeoDataFrame from merged_df and points\n",
    "gdf = gpd.GeoDataFrame(merged_df, geometry=points)"
   ]
  },
  {
   "cell_type": "code",
   "execution_count": null,
   "metadata": {},
   "outputs": [],
   "source": [
    "\n",
    "# Create a dictionary to hold the polygons for each cluster\n",
    "polygons = {}\n",
    "\n",
    "# Loop over the clusters and create a polygon for each one\n",
    "for cluster in gdf.cluster_mark.unique():\n",
    "    if cluster != -1:\n",
    "        points = gdf[gdf.cluster_mark == cluster].geometry.to_list()\n",
    "        if len(points) > 0:\n",
    "            # Swap xmerged_df2['cluster1_max'] and y coordinates\n",
    "            points = [(point.y, point.x) for point in points]\n",
    "            # Create a convex hull around the points\n",
    "            hull = MultiPoint(points).convex_hull\n",
    "            polygons[cluster] = hull\n",
    "\n",
    "# Create a new GeoDataFrame with the polygons\n",
    "poly_gdf = gpd.GeoDataFrame(geometry=list(polygons.values()))\n",
    "\n",
    "\n",
    "\n",
    "# Add the cluster labels to the GeoDataFrame\n",
    "poly_gdf['cluster_mark_max'] = list(polygons.keys())\n",
    "poly_gdf\n"
   ]
  },
  {
   "cell_type": "code",
   "execution_count": null,
   "metadata": {},
   "outputs": [],
   "source": [
    "colors = ['red', 'blue', 'green', 'purple', 'orange', 'pink', 'brown', 'grey', 'teal', 'magenta', 'olive', 'navy', 'maroon','yellow','c','m']\n",
    "#colors = ['r', 'b', 'g', 'c', 'm', 'y', 'k', 'pink', 'orange', 'purple', 'brown','w']\n",
    "\n",
    "# Set the plot style and plot the polygons\n",
    "#style_kwds = {'border': 'gray', 'linewidth': 1.5, 'edgecolor': 'black'}\n",
    "fig, ax = plt.subplots(figsize=(12, 8))\n",
    "shapefile.plot(ax=ax, facecolor='none', edgecolor='k')\n",
    "\n",
    "for i, cluster in enumerate(polygons.keys()):\n",
    "    poly_gdf[poly_gdf.cluster_mark_max == cluster].plot(ax=ax,color=colors[i % len(colors)], alpha=0.5,label=f'Cluster {i+1}')\n",
    "\n",
    "    \n",
    "handles, labels = ax.get_legend_handles_labels()\n",
    "ax.legend(handles, labels, loc='lower right')\n",
    "\n",
    "center_point = loads('POINT(-72.71 41.5)')\n",
    "\n",
    "\n",
    "ax.set_xlim(center_point.x - 1, center_point.x + 1)\n",
    "ax.set_ylim(center_point.y - 1, center_point.y + 1)\n",
    "\n",
    "\n",
    "ax.set_title('Polygons by Cluster')\n",
    "ax.set_aspect('equal')\n",
    "plt.show()"
   ]
  },
  {
   "cell_type": "code",
   "execution_count": null,
   "metadata": {},
   "outputs": [],
   "source": []
  }
 ],
 "metadata": {
  "kernelspec": {
   "display_name": "Python 3",
   "language": "python",
   "name": "python3"
  },
  "language_info": {
   "codemirror_mode": {
    "name": "ipython",
    "version": 3
   },
   "file_extension": ".py",
   "mimetype": "text/x-python",
   "name": "python",
   "nbconvert_exporter": "python",
   "pygments_lexer": "ipython3",
   "version": "3.6.15"
  }
 },
 "nbformat": 4,
 "nbformat_minor": 4
}
